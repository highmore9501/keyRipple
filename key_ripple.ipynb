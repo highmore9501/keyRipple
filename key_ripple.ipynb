{
 "cells": [
  {
   "cell_type": "code",
   "execution_count": 1,
   "id": "7fd73325",
   "metadata": {},
   "outputs": [
    {
     "name": "stdout",
     "output_type": "stream",
     "text": [
      "Track 0: \n",
      "Track 1: \n",
      "Track 2: MIDITrack\n",
      "Track 2, Channel 15: Acoustic Grand Piano\n",
      "Track 2, Channel 15: Acoustic Grand Piano\n",
      "Track 2, Channel 15: Acoustic Grand Piano\n",
      "Track 2, Channel 15: Acoustic Grand Piano\n",
      "Track 2, Channel 15: Acoustic Grand Piano\n",
      "\n",
      "一共有1个轨道\n",
      "pitch_wheel_map 保存到了 asset/temp/pitch_wheel_map.json\n",
      "messages 保存到了 asset/temp/messages.json\n",
      "全曲的速度变化是:\n",
      "在1轨，tick为0时，速度变为500000\n",
      "在1轨，tick为0时，速度变为500000\n",
      "在1轨，tick为0时，速度变为500000\n",
      "\n",
      "全曲的每拍tick数是:96\n",
      "\n",
      "总共有 989 个和弦/单音符\n",
      "总共按下了 1551 个音符（包含和弦中的每个音符）\n",
      "其中不重复的音符有 48 个\n",
      "如果以60的fps做成动画，一共是41581 ticks, 合计12994.0625帧, 约216.56770833333334秒\n",
      "notes_map 保存到了 asset/temp/notes_map.json\n"
     ]
    }
   ],
   "source": [
    "from src.midi.midiToNotes import MidiProcessor\n",
    "from src.piano.piano import Piano\n",
    "from src.hand.hand import Hand\n",
    "from src.hand.finger import Finger\n",
    "from src.recorder.recorder import Recorder\n",
    "from src.recorder.recorderPool import RecorderPool\n",
    "\n",
    "midi_name = \"诀别书\"\n",
    "track_numbers = [2]\n",
    "channel_number = 15\n",
    "hand_range = 12\n",
    "finger_range = 4\n",
    "FPS = 60\n",
    "# 是否要提高八度\n",
    "higher_octave = False\n",
    "\n",
    "# 初始各种文件路径\n",
    "track_text = str(track_numbers[0]) if len(track_numbers) == 1 else \"_\".join([str(track_number) for track_number in track_numbers])\n",
    "hand_recorder_file_path = f\"output/hand_recorders/{midi_name}_{track_text}.hand\"\n",
    "\n",
    "# 读取midi文件，获得音高和时间轴\n",
    "midi_processor = MidiProcessor(midi_name, track_numbers, channel_number=channel_number,FPS=FPS)\n",
    "midi_info = midi_processor.export_midi_info()\n",
    "print(midi_info)\n",
    "notes_maps = midi_processor.generate_notes_map_and_messages(higher_octave)\n",
    "\n",
    "# 初始化钢琴\n",
    "piano = Piano()\n",
    "\n",
    "# 初始化左右手,左手放在C3，右手放在C5\n",
    "left_hand = Hand([Finger(0, piano.note_to_key(48)), Finger(1, piano.note_to_key(50)), Finger(2, piano.note_to_key(52)), Finger(3, piano.note_to_key(53)), Finger(4, piano.note_to_key(55))], piano, True)\n",
    "right_hand = Hand([Finger(5, piano.note_to_key(72), False), Finger(6, piano.note_to_key(74), False), Finger(\n",
    "    7, piano.note_to_key(76), False), Finger(8, piano.note_to_key(77), False), Finger(9, piano.note_to_key(79), False)], piano, False)\n",
    "\n",
    "init_real_tick = 0.0\n",
    "init_real_ticks = []\n",
    "\n",
    "# 初始化recorder\n",
    "recorder = Recorder(piano, [left_hand], [right_hand],\n",
    "                    0, init_real_tick, init_real_ticks)\n",
    "\n",
    "# 初始化recorderPool\n",
    "pool_size = 100\n",
    "recorder_pool = RecorderPool([recorder],pool_size,0)"
   ]
  },
  {
   "cell_type": "code",
   "execution_count": 2,
   "id": "c0418e13",
   "metadata": {},
   "outputs": [
    {
     "name": "stderr",
     "output_type": "stream",
     "text": [
      "生成指法中……:  46%|████▌     | 456/989 [00:23<00:19, 27.27step/s]"
     ]
    },
    {
     "name": "stdout",
     "output_type": "stream",
     "text": [
      "警告：没能生成新的记录器，当前frame为：6963.4375,当前音符为：[43, 58, 76, 88]\n",
      "只保留原最佳记录，并且更新frame\n"
     ]
    },
    {
     "name": "stderr",
     "output_type": "stream",
     "text": [
      "生成指法中……: 100%|██████████| 989/989 [00:54<00:00, 18.11step/s]\n"
     ]
    },
    {
     "name": "stdout",
     "output_type": "stream",
     "text": [
      "最优记录的熵值为：28122\n",
      "已保存至output/hand_recorders/诀别书_2.hand\n"
     ]
    }
   ],
   "source": [
    "from tqdm import tqdm\n",
    "\n",
    "# 使用notes_map，开始迭代更新recorder，并且放入recorder_pool中\n",
    "for notes_map in tqdm(notes_maps, desc=\"生成指法中……\", unit=\"step\"):\n",
    "    recorder_pool.update_recorder_pool(notes_map, hand_range, finger_range)\n",
    "\n",
    "recorder_pool.export_pool_info(hand_recorder_file_path)"
   ]
  },
  {
   "cell_type": "code",
   "execution_count": 3,
   "id": "b660afaa",
   "metadata": {},
   "outputs": [
    {
     "name": "stdout",
     "output_type": "stream",
     "text": [
      "已加载output/hand_recorders/诀别书_2.hand 和 asset/avatars/Kinich.avatar\n",
      "动画数据已保存到output/animation_recorders/诀别书_2_Kinich.animation\n"
     ]
    }
   ],
   "source": [
    "from src.animation.animator import Animator\n",
    "\n",
    "avatar_name = 'Kinich'\n",
    "avatar_info_path = f'asset/avatars/{avatar_name}.avatar'\n",
    "\n",
    "animator = Animator(hand_recorder_file_path, avatar_info_path,piano)\n",
    "animator.load_base_state_info()\n",
    "animator.generate_animation_info()"
   ]
  }
 ],
 "metadata": {
  "kernelspec": {
   "display_name": "keyripple (3.10.6)",
   "language": "python",
   "name": "python3"
  },
  "language_info": {
   "codemirror_mode": {
    "name": "ipython",
    "version": 3
   },
   "file_extension": ".py",
   "mimetype": "text/x-python",
   "name": "python",
   "nbconvert_exporter": "python",
   "pygments_lexer": "ipython3",
   "version": "3.10.6"
  }
 },
 "nbformat": 4,
 "nbformat_minor": 5
}
