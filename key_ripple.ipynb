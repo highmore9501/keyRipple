{
 "cells": [
  {
   "cell_type": "code",
   "execution_count": 1,
   "id": "7fd73325",
   "metadata": {},
   "outputs": [
    {
     "name": "stdout",
     "output_type": "stream",
     "text": [
      "Track 0: \n",
      "Track 1: \n",
      "Track 1, Channel 0: Acoustic Grand Piano\n",
      "Track 2: \n",
      "\n",
      "一共有1个轨道\n",
      "pitch_wheel_map 保存到了 asset/temp/pitch_wheel_map.json\n",
      "messages 保存到了 asset/temp/messages.json\n",
      "全曲的速度变化是:\n",
      "在0轨，tick为0时，速度变为750002\n",
      "在0轨，tick为480时，速度变为681816\n",
      "在0轨，tick为640时，速度变为705881\n",
      "在0轨，tick为1440时，速度变为750002\n",
      "在0轨，tick为1920时，速度变为800000\n",
      "在0轨，tick为2080时，速度变为857139\n",
      "在0轨，tick为2640时，速度变为2222222\n",
      "在0轨，tick为2880时，速度变为800000\n",
      "在0轨，tick为4320时，速度变为857139\n",
      "在0轨，tick为4640时，速度变为1090909\n",
      "在0轨，tick为4800时，速度变为1200000\n",
      "在0轨，tick为4960时，速度变为1200000\n",
      "在0轨，tick为5760时，速度变为800000\n",
      "在0轨，tick为7680时，速度变为666667\n",
      "在0轨，tick为7920时，速度变为750002\n",
      "在0轨，tick为8160时，速度变为857139\n",
      "在0轨，tick为8400时，速度变为1333332\n",
      "在0轨，tick为8640时，速度变为800000\n",
      "在0轨，tick为9120时，速度变为923079\n",
      "在0轨，tick为9600时，速度变为1090909\n",
      "在0轨，tick为9840时，速度变为1578948\n",
      "在0轨，tick为10080时，速度变为1333332\n",
      "在0轨，tick为11520时，速度变为382165\n",
      "在0轨，tick为13440时，速度变为372670\n",
      "在0轨，tick为24960时，速度变为359281\n",
      "在0轨，tick为29760时，速度变为375000\n",
      "在0轨，tick为36480时，速度变为379746\n",
      "在0轨，tick为46800时，速度变为372670\n",
      "在0轨，tick为57600时，速度变为377357\n",
      "在0轨，tick为59520时，速度变为372670\n",
      "在0轨，tick为67200时，速度变为379746\n",
      "在0轨，tick为74880时，速度变为375000\n",
      "在0轨，tick为84480时，速度变为379746\n",
      "在0轨，tick为122280时，速度变为368097\n",
      "在0轨，tick为140160时，速度变为379746\n",
      "在0轨，tick为170880时，速度变为377357\n",
      "在0轨，tick为216960时，速度变为382166\n",
      "在0轨，tick为243840时，速度变为375000\n",
      "在0轨，tick为251520时，速度变为379746\n",
      "在0轨，tick为269280时，速度变为187500\n",
      "在0轨，tick为269760时，速度变为375000\n",
      "在0轨，tick为283200时，速度变为379746\n",
      "在0轨，tick为289680时，速度变为370369\n",
      "在0轨，tick为295680时，速度变为368097\n",
      "在0轨，tick为305280时，速度变为363635\n",
      "在0轨，tick为316800时，速度变为375000\n",
      "在0轨，tick为317760时，速度变为599998\n",
      "在0轨，tick为318180时，速度变为1500000\n",
      "在0轨，tick为318240时，速度变为428571\n",
      "在0轨，tick为318480时，速度变为800000\n",
      "在0轨，tick为318720时，速度变为500000\n",
      "在0轨，tick为320160时，速度变为315788\n",
      "在0轨，tick为322560时，速度变为750002\n",
      "\n",
      "全曲的每拍tick数是:480\n",
      "\n",
      "总共有 1284 个和弦/单音符\n",
      "总共按下了 1754 个音符（包含和弦中的每个音符）\n",
      "其中不重复的音符有 43 个\n",
      "如果以60的fps做成动画，一共是322560 ticks, 合计16036.710800000003帧, 约267.27851333333336秒\n",
      "notes_map 保存到了 asset/temp/notes_map.json\n"
     ]
    }
   ],
   "source": [
    "from src.midi.midiToNotes import MidiProcessor\n",
    "from src.piano.piano import Piano\n",
    "from src.hand.hand import Hand\n",
    "from src.utils import generate_finger_distribution\n",
    "from src.hand.finger import Finger\n",
    "from src.recorder.recorder import Recorder\n",
    "from src.recorder.recorderPool import RecorderPool\n",
    "\n",
    "midi_name = \"God knows\"\n",
    "track_numbers = [1]\n",
    "channel_number = -1\n",
    "hand_range = 12\n",
    "FPS = 60\n",
    "# 是否要提高八度\n",
    "higher_octave = False\n",
    "\n",
    "# 初始各种文件路径\n",
    "track_text = str(track_numbers[0]) if len(track_numbers) == 1 else \"_\".join([str(track_number) for track_number in track_numbers])\n",
    "hand_recorder_file_path = f\"output/hand_recorders/{midi_name}_{track_text}.hand\"\n",
    "\n",
    "# 读取midi文件，获得音高和时间轴\n",
    "midi_processor = MidiProcessor(midi_name, track_numbers, channel_number=channel_number,FPS=FPS)\n",
    "midi_info = midi_processor.export_midi_info()\n",
    "print(midi_info)\n",
    "notes_maps = midi_processor.generate_notes_map_and_messages(higher_octave)\n",
    "\n",
    "# 初始化钢琴\n",
    "piano = Piano()\n",
    "\n",
    "# 生成手掌上手指坐标分布列表\n",
    "finger_number = 5\n",
    "finger_distribution = generate_finger_distribution(5)\n",
    "finger_range = 12 / (max(finger_distribution) - min(finger_distribution))\n",
    "\n",
    "# 初始化左右手,左手放在C3，右手放在C5\n",
    "left_hand = Hand([Finger(0, piano.note_to_key(48)), Finger(1, piano.note_to_key(50)), Finger(2, piano.note_to_key(52)), Finger(3, piano.note_to_key(53)), Finger(4, piano.note_to_key(55))], piano, True)\n",
    "right_hand = Hand([Finger(5, piano.note_to_key(72), False), Finger(6, piano.note_to_key(74), False), Finger(\n",
    "    7, piano.note_to_key(76), False), Finger(8, piano.note_to_key(77), False), Finger(9, piano.note_to_key(79), False)], piano, False)\n",
    "\n",
    "init_real_tick = 0.0\n",
    "init_real_ticks = []\n",
    "\n",
    "# 初始化recorder\n",
    "recorder = Recorder(piano, [left_hand], [right_hand],\n",
    "                    0, init_real_tick, init_real_ticks)\n",
    "\n",
    "# 初始化recorderPool\n",
    "pool_size = 100\n",
    "recorder_pool = RecorderPool([recorder],pool_size,0)"
   ]
  },
  {
   "cell_type": "code",
   "execution_count": 2,
   "id": "c0418e13",
   "metadata": {},
   "outputs": [
    {
     "name": "stderr",
     "output_type": "stream",
     "text": [
      "生成指法中……: 100%|██████████| 1284/1284 [01:13<00:00, 17.51step/s]"
     ]
    },
    {
     "name": "stdout",
     "output_type": "stream",
     "text": [
      "最优记录的熵值为：20036.75999999992\n",
      "已保存至output/hand_recorders/God knows_1.hand\n"
     ]
    },
    {
     "name": "stderr",
     "output_type": "stream",
     "text": [
      "\n"
     ]
    }
   ],
   "source": [
    "from tqdm import tqdm\n",
    "\n",
    "# 使用notes_map，开始迭代更新recorder，并且放入recorder_pool中\n",
    "for notes_map in tqdm(notes_maps, desc=\"生成指法中……\", unit=\"step\"):\n",
    "    recorder_pool.update_recorder_pool(\n",
    "        notes_map, hand_range, finger_range, finger_distribution)\n",
    "\n",
    "recorder_pool.export_pool_info(hand_recorder_file_path)"
   ]
  },
  {
   "cell_type": "code",
   "execution_count": 3,
   "id": "b660afaa",
   "metadata": {},
   "outputs": [
    {
     "name": "stdout",
     "output_type": "stream",
     "text": [
      "已加载output/hand_recorders/God knows_1.hand 和 asset/avatars/Kinich.avatar\n",
      "动画数据已保存到output/animation_recorders/God knows_1_Kinich.animation\n"
     ]
    }
   ],
   "source": [
    "from src.animation.animator import Animator\n",
    "\n",
    "avatar_name = 'Kinich'\n",
    "avatar_info_path = f'asset/avatars/{avatar_name}.avatar'\n",
    "\n",
    "animator = Animator(hand_recorder_file_path, avatar_info_path,piano)\n",
    "animator.generate_animation_info()"
   ]
  }
 ],
 "metadata": {
  "kernelspec": {
   "display_name": "keyripple (3.10.6)",
   "language": "python",
   "name": "python3"
  },
  "language_info": {
   "codemirror_mode": {
    "name": "ipython",
    "version": 3
   },
   "file_extension": ".py",
   "mimetype": "text/x-python",
   "name": "python",
   "nbconvert_exporter": "python",
   "pygments_lexer": "ipython3",
   "version": "3.10.6"
  }
 },
 "nbformat": 4,
 "nbformat_minor": 5
}
