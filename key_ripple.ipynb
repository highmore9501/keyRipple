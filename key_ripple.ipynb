{
 "cells": [
  {
   "cell_type": "code",
   "execution_count": null,
   "id": "7fd73325",
   "metadata": {},
   "outputs": [
    {
     "name": "stdout",
     "output_type": "stream",
     "text": [
      "pitch_wheel_map 保存到了 asset/temp/pitch_wheel_map.json\n",
      "messages 保存到了 asset/temp/messages.json\n",
      "全曲的速度变化是:\n",
      "在0轨，tick为0时，速度变为375000\n",
      "\n",
      "全曲的每拍tick数是:384\n",
      "\n",
      "如果以60的fps做成动画，一共是259012 ticks, 合计15176.484375帧, 约252.94140625秒\n",
      "notes_map 保存到了 asset/temp/notes_map.json\n"
     ]
    }
   ],
   "source": [
    "from src.midi.midiToNotes import MidiProcessor\n",
    "from src.piano.piano import Piano\n",
    "from src.hand.hand import Hand\n",
    "from src.hand.finger import Finger\n",
    "from src.recorder.recorder import Recorder\n",
    "from src.recorder.recorderPool import RecorderPool\n",
    "\n",
    "midi_name = \"诀别书\"\n",
    "track_numbers = [2]\n",
    "hand_range = 13\n",
    "finger_range = 4\n",
    "FPS = 60\n",
    "# 是否要提高八度\n",
    "higher_octave = False\n",
    "\n",
    "# 初始各种文件路径\n",
    "track_text = str(track_numbers[0]) if len(track_numbers) == 1 else \"_\".join([str(track_number) for track_number in track_numbers])\n",
    "hand_recorder_file_path = f\"output/hand_recorders/{midi_name}_{track_text}.hand\"\n",
    "\n",
    "# 读取midi文件，获得音高和时间轴\n",
    "midi_processor = MidiProcessor(midi_name, track_numbers, FPS=FPS)\n",
    "notes_maps = midi_processor.generate_notes_map_and_messages(higher_octave)\n",
    "\n",
    "# 初始化钢琴\n",
    "piano = Piano()\n",
    "\n",
    "# 初始化左右手,左手放在C3，右手放在C5\n",
    "left_hand = Hand([Finger(0, piano.note_to_key(48)), Finger(1, piano.note_to_key(50)), Finger(2, piano.note_to_key(52)), Finger(3, piano.note_to_key(53)), Finger(4, piano.note_to_key(55))], piano, True)\n",
    "right_hand = Hand([Finger(5, piano.note_to_key(72), False), Finger(6, piano.note_to_key(74), False), Finger(\n",
    "    7, piano.note_to_key(76), False), Finger(8, piano.note_to_key(77), False), Finger(9, piano.note_to_key(79), False)], piano, False)\n",
    "\n",
    "init_real_tick = 0.0\n",
    "init_real_ticks = []\n",
    "\n",
    "# 初始化recorder\n",
    "recorder = Recorder(piano, [left_hand], [right_hand],\n",
    "                    0, init_real_tick, init_real_ticks)\n",
    "\n",
    "# 初始化recorderPool\n",
    "pool_size = 100\n",
    "recorder_pool = RecorderPool([recorder],pool_size,0)"
   ]
  },
  {
   "cell_type": "code",
   "execution_count": 2,
   "id": "c0418e13",
   "metadata": {},
   "outputs": [
    {
     "name": "stderr",
     "output_type": "stream",
     "text": [
      "生成指法中……: 100%|██████████| 821/821 [01:54<00:00,  7.14step/s]"
     ]
    },
    {
     "name": "stdout",
     "output_type": "stream",
     "text": [
      "最优记录的熵值为：3423\n",
      "已保存至output/hand_recorders/World is Mine - Hatsune Miku_0.hand\n"
     ]
    },
    {
     "name": "stderr",
     "output_type": "stream",
     "text": [
      "\n"
     ]
    }
   ],
   "source": [
    "from tqdm import tqdm\n",
    "\n",
    "# 使用notes_map，开始迭代更新recorder，并且放入recorder_pool中\n",
    "for notes_map in tqdm(notes_maps, desc=\"生成指法中……\", unit=\"step\"):\n",
    "    recorder_pool.update_recorder_pool(notes_map, hand_range, finger_range)\n",
    "\n",
    "recorder_pool.export_pool_info(hand_recorder_file_path)"
   ]
  },
  {
   "cell_type": "code",
   "execution_count": 3,
   "id": "b660afaa",
   "metadata": {},
   "outputs": [
    {
     "name": "stdout",
     "output_type": "stream",
     "text": [
      "已加载output/hand_recorders/World is Mine - Hatsune Miku_0.hand 和 asset/avatars/Kinich.avatar\n",
      "动画数据已保存到output/animation_recorders/World is Mine - Hatsune Miku_0_Kinich.animation\n"
     ]
    }
   ],
   "source": [
    "from src.animation.animator import Animator\n",
    "\n",
    "avatar_name = 'Kinich'\n",
    "avatar_info_path = f'asset/avatars/{avatar_name}.avatar'\n",
    "\n",
    "animator = Animator(hand_recorder_file_path, avatar_info_path,piano)\n",
    "animator.load_base_state_info()\n",
    "animator.generate_animation_info()"
   ]
  }
 ],
 "metadata": {
  "kernelspec": {
   "display_name": "keyripple (3.10.6)",
   "language": "python",
   "name": "python3"
  },
  "language_info": {
   "codemirror_mode": {
    "name": "ipython",
    "version": 3
   },
   "file_extension": ".py",
   "mimetype": "text/x-python",
   "name": "python",
   "nbconvert_exporter": "python",
   "pygments_lexer": "ipython3",
   "version": "3.10.6"
  }
 },
 "nbformat": 4,
 "nbformat_minor": 5
}
